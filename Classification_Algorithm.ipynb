{
  "nbformat": 4,
  "nbformat_minor": 0,
  "metadata": {
    "colab": {
      "provenance": [],
      "authorship_tag": "ABX9TyPMzqjcb65/eHMtqg8tbMl0",
      "include_colab_link": true
    },
    "kernelspec": {
      "name": "python3",
      "display_name": "Python 3"
    },
    "language_info": {
      "name": "python"
    }
  },
  "cells": [
    {
      "cell_type": "markdown",
      "metadata": {
        "id": "view-in-github",
        "colab_type": "text"
      },
      "source": [
        "<a href=\"https://colab.research.google.com/github/pradeep-016/ml_assessment/blob/main/Classification_Algorithm.ipynb\" target=\"_parent\"><img src=\"https://colab.research.google.com/assets/colab-badge.svg\" alt=\"Open In Colab\"/></a>"
      ]
    },
    {
      "cell_type": "code",
      "execution_count": null,
      "metadata": {
        "id": "Wxz1NRccWBEZ"
      },
      "outputs": [],
      "source": [
        "import pandas as pd\n",
        "import numpy as np\n",
        "from matplotlib import pyplot as plt\n",
        "import seaborn as sns"
      ]
    },
    {
      "cell_type": "code",
      "source": [
        "df=pd.read_csv('/content/bankloan (1).csv')\n",
        "df.head()"
      ],
      "metadata": {
        "colab": {
          "base_uri": "https://localhost:8080/",
          "height": 244
        },
        "id": "PSSBnTjrYh81",
        "outputId": "dd4cfc39-522b-409b-ef6f-3ccee531aea9"
      },
      "execution_count": null,
      "outputs": [
        {
          "output_type": "execute_result",
          "data": {
            "text/plain": [
              "    Loan_ID Gender Married  Dependents     Education Self_Employed  \\\n",
              "0  LP001002   Male      No         0.0      Graduate            No   \n",
              "1  LP001003   Male     Yes         1.0      Graduate            No   \n",
              "2  LP001005   Male     Yes         0.0      Graduate           Yes   \n",
              "3  LP001006   Male     Yes         0.0  Not Graduate            No   \n",
              "4  LP001008   Male      No         0.0      Graduate            No   \n",
              "\n",
              "   ApplicantIncome  CoapplicantIncome  LoanAmount  Loan_Amount_Term  \\\n",
              "0             5849                0.0         NaN             360.0   \n",
              "1             4583             1508.0       128.0             360.0   \n",
              "2             3000                0.0        66.0             360.0   \n",
              "3             2583             2358.0       120.0             360.0   \n",
              "4             6000                0.0       141.0             360.0   \n",
              "\n",
              "   Credit_History Property_Area Loan_Status  \n",
              "0             1.0         Urban           Y  \n",
              "1             1.0         Rural           N  \n",
              "2             1.0         Urban           Y  \n",
              "3             1.0         Urban           Y  \n",
              "4             1.0         Urban           Y  "
            ],
            "text/html": [
              "\n",
              "  <div id=\"df-973e8b2a-b720-4ed4-93f6-2ad6c835a844\" class=\"colab-df-container\">\n",
              "    <div>\n",
              "<style scoped>\n",
              "    .dataframe tbody tr th:only-of-type {\n",
              "        vertical-align: middle;\n",
              "    }\n",
              "\n",
              "    .dataframe tbody tr th {\n",
              "        vertical-align: top;\n",
              "    }\n",
              "\n",
              "    .dataframe thead th {\n",
              "        text-align: right;\n",
              "    }\n",
              "</style>\n",
              "<table border=\"1\" class=\"dataframe\">\n",
              "  <thead>\n",
              "    <tr style=\"text-align: right;\">\n",
              "      <th></th>\n",
              "      <th>Loan_ID</th>\n",
              "      <th>Gender</th>\n",
              "      <th>Married</th>\n",
              "      <th>Dependents</th>\n",
              "      <th>Education</th>\n",
              "      <th>Self_Employed</th>\n",
              "      <th>ApplicantIncome</th>\n",
              "      <th>CoapplicantIncome</th>\n",
              "      <th>LoanAmount</th>\n",
              "      <th>Loan_Amount_Term</th>\n",
              "      <th>Credit_History</th>\n",
              "      <th>Property_Area</th>\n",
              "      <th>Loan_Status</th>\n",
              "    </tr>\n",
              "  </thead>\n",
              "  <tbody>\n",
              "    <tr>\n",
              "      <th>0</th>\n",
              "      <td>LP001002</td>\n",
              "      <td>Male</td>\n",
              "      <td>No</td>\n",
              "      <td>0.0</td>\n",
              "      <td>Graduate</td>\n",
              "      <td>No</td>\n",
              "      <td>5849</td>\n",
              "      <td>0.0</td>\n",
              "      <td>NaN</td>\n",
              "      <td>360.0</td>\n",
              "      <td>1.0</td>\n",
              "      <td>Urban</td>\n",
              "      <td>Y</td>\n",
              "    </tr>\n",
              "    <tr>\n",
              "      <th>1</th>\n",
              "      <td>LP001003</td>\n",
              "      <td>Male</td>\n",
              "      <td>Yes</td>\n",
              "      <td>1.0</td>\n",
              "      <td>Graduate</td>\n",
              "      <td>No</td>\n",
              "      <td>4583</td>\n",
              "      <td>1508.0</td>\n",
              "      <td>128.0</td>\n",
              "      <td>360.0</td>\n",
              "      <td>1.0</td>\n",
              "      <td>Rural</td>\n",
              "      <td>N</td>\n",
              "    </tr>\n",
              "    <tr>\n",
              "      <th>2</th>\n",
              "      <td>LP001005</td>\n",
              "      <td>Male</td>\n",
              "      <td>Yes</td>\n",
              "      <td>0.0</td>\n",
              "      <td>Graduate</td>\n",
              "      <td>Yes</td>\n",
              "      <td>3000</td>\n",
              "      <td>0.0</td>\n",
              "      <td>66.0</td>\n",
              "      <td>360.0</td>\n",
              "      <td>1.0</td>\n",
              "      <td>Urban</td>\n",
              "      <td>Y</td>\n",
              "    </tr>\n",
              "    <tr>\n",
              "      <th>3</th>\n",
              "      <td>LP001006</td>\n",
              "      <td>Male</td>\n",
              "      <td>Yes</td>\n",
              "      <td>0.0</td>\n",
              "      <td>Not Graduate</td>\n",
              "      <td>No</td>\n",
              "      <td>2583</td>\n",
              "      <td>2358.0</td>\n",
              "      <td>120.0</td>\n",
              "      <td>360.0</td>\n",
              "      <td>1.0</td>\n",
              "      <td>Urban</td>\n",
              "      <td>Y</td>\n",
              "    </tr>\n",
              "    <tr>\n",
              "      <th>4</th>\n",
              "      <td>LP001008</td>\n",
              "      <td>Male</td>\n",
              "      <td>No</td>\n",
              "      <td>0.0</td>\n",
              "      <td>Graduate</td>\n",
              "      <td>No</td>\n",
              "      <td>6000</td>\n",
              "      <td>0.0</td>\n",
              "      <td>141.0</td>\n",
              "      <td>360.0</td>\n",
              "      <td>1.0</td>\n",
              "      <td>Urban</td>\n",
              "      <td>Y</td>\n",
              "    </tr>\n",
              "  </tbody>\n",
              "</table>\n",
              "</div>\n",
              "    <div class=\"colab-df-buttons\">\n",
              "\n",
              "  <div class=\"colab-df-container\">\n",
              "    <button class=\"colab-df-convert\" onclick=\"convertToInteractive('df-973e8b2a-b720-4ed4-93f6-2ad6c835a844')\"\n",
              "            title=\"Convert this dataframe to an interactive table.\"\n",
              "            style=\"display:none;\">\n",
              "\n",
              "  <svg xmlns=\"http://www.w3.org/2000/svg\" height=\"24px\" viewBox=\"0 -960 960 960\">\n",
              "    <path d=\"M120-120v-720h720v720H120Zm60-500h600v-160H180v160Zm220 220h160v-160H400v160Zm0 220h160v-160H400v160ZM180-400h160v-160H180v160Zm440 0h160v-160H620v160ZM180-180h160v-160H180v160Zm440 0h160v-160H620v160Z\"/>\n",
              "  </svg>\n",
              "    </button>\n",
              "\n",
              "  <style>\n",
              "    .colab-df-container {\n",
              "      display:flex;\n",
              "      gap: 12px;\n",
              "    }\n",
              "\n",
              "    .colab-df-convert {\n",
              "      background-color: #E8F0FE;\n",
              "      border: none;\n",
              "      border-radius: 50%;\n",
              "      cursor: pointer;\n",
              "      display: none;\n",
              "      fill: #1967D2;\n",
              "      height: 32px;\n",
              "      padding: 0 0 0 0;\n",
              "      width: 32px;\n",
              "    }\n",
              "\n",
              "    .colab-df-convert:hover {\n",
              "      background-color: #E2EBFA;\n",
              "      box-shadow: 0px 1px 2px rgba(60, 64, 67, 0.3), 0px 1px 3px 1px rgba(60, 64, 67, 0.15);\n",
              "      fill: #174EA6;\n",
              "    }\n",
              "\n",
              "    .colab-df-buttons div {\n",
              "      margin-bottom: 4px;\n",
              "    }\n",
              "\n",
              "    [theme=dark] .colab-df-convert {\n",
              "      background-color: #3B4455;\n",
              "      fill: #D2E3FC;\n",
              "    }\n",
              "\n",
              "    [theme=dark] .colab-df-convert:hover {\n",
              "      background-color: #434B5C;\n",
              "      box-shadow: 0px 1px 3px 1px rgba(0, 0, 0, 0.15);\n",
              "      filter: drop-shadow(0px 1px 2px rgba(0, 0, 0, 0.3));\n",
              "      fill: #FFFFFF;\n",
              "    }\n",
              "  </style>\n",
              "\n",
              "    <script>\n",
              "      const buttonEl =\n",
              "        document.querySelector('#df-973e8b2a-b720-4ed4-93f6-2ad6c835a844 button.colab-df-convert');\n",
              "      buttonEl.style.display =\n",
              "        google.colab.kernel.accessAllowed ? 'block' : 'none';\n",
              "\n",
              "      async function convertToInteractive(key) {\n",
              "        const element = document.querySelector('#df-973e8b2a-b720-4ed4-93f6-2ad6c835a844');\n",
              "        const dataTable =\n",
              "          await google.colab.kernel.invokeFunction('convertToInteractive',\n",
              "                                                    [key], {});\n",
              "        if (!dataTable) return;\n",
              "\n",
              "        const docLinkHtml = 'Like what you see? Visit the ' +\n",
              "          '<a target=\"_blank\" href=https://colab.research.google.com/notebooks/data_table.ipynb>data table notebook</a>'\n",
              "          + ' to learn more about interactive tables.';\n",
              "        element.innerHTML = '';\n",
              "        dataTable['output_type'] = 'display_data';\n",
              "        await google.colab.output.renderOutput(dataTable, element);\n",
              "        const docLink = document.createElement('div');\n",
              "        docLink.innerHTML = docLinkHtml;\n",
              "        element.appendChild(docLink);\n",
              "      }\n",
              "    </script>\n",
              "  </div>\n",
              "\n",
              "\n",
              "<div id=\"df-f2f48c31-8b96-4038-9af4-00c68c309da2\">\n",
              "  <button class=\"colab-df-quickchart\" onclick=\"quickchart('df-f2f48c31-8b96-4038-9af4-00c68c309da2')\"\n",
              "            title=\"Suggest charts\"\n",
              "            style=\"display:none;\">\n",
              "\n",
              "<svg xmlns=\"http://www.w3.org/2000/svg\" height=\"24px\"viewBox=\"0 0 24 24\"\n",
              "     width=\"24px\">\n",
              "    <g>\n",
              "        <path d=\"M19 3H5c-1.1 0-2 .9-2 2v14c0 1.1.9 2 2 2h14c1.1 0 2-.9 2-2V5c0-1.1-.9-2-2-2zM9 17H7v-7h2v7zm4 0h-2V7h2v10zm4 0h-2v-4h2v4z\"/>\n",
              "    </g>\n",
              "</svg>\n",
              "  </button>\n",
              "\n",
              "<style>\n",
              "  .colab-df-quickchart {\n",
              "      --bg-color: #E8F0FE;\n",
              "      --fill-color: #1967D2;\n",
              "      --hover-bg-color: #E2EBFA;\n",
              "      --hover-fill-color: #174EA6;\n",
              "      --disabled-fill-color: #AAA;\n",
              "      --disabled-bg-color: #DDD;\n",
              "  }\n",
              "\n",
              "  [theme=dark] .colab-df-quickchart {\n",
              "      --bg-color: #3B4455;\n",
              "      --fill-color: #D2E3FC;\n",
              "      --hover-bg-color: #434B5C;\n",
              "      --hover-fill-color: #FFFFFF;\n",
              "      --disabled-bg-color: #3B4455;\n",
              "      --disabled-fill-color: #666;\n",
              "  }\n",
              "\n",
              "  .colab-df-quickchart {\n",
              "    background-color: var(--bg-color);\n",
              "    border: none;\n",
              "    border-radius: 50%;\n",
              "    cursor: pointer;\n",
              "    display: none;\n",
              "    fill: var(--fill-color);\n",
              "    height: 32px;\n",
              "    padding: 0;\n",
              "    width: 32px;\n",
              "  }\n",
              "\n",
              "  .colab-df-quickchart:hover {\n",
              "    background-color: var(--hover-bg-color);\n",
              "    box-shadow: 0 1px 2px rgba(60, 64, 67, 0.3), 0 1px 3px 1px rgba(60, 64, 67, 0.15);\n",
              "    fill: var(--button-hover-fill-color);\n",
              "  }\n",
              "\n",
              "  .colab-df-quickchart-complete:disabled,\n",
              "  .colab-df-quickchart-complete:disabled:hover {\n",
              "    background-color: var(--disabled-bg-color);\n",
              "    fill: var(--disabled-fill-color);\n",
              "    box-shadow: none;\n",
              "  }\n",
              "\n",
              "  .colab-df-spinner {\n",
              "    border: 2px solid var(--fill-color);\n",
              "    border-color: transparent;\n",
              "    border-bottom-color: var(--fill-color);\n",
              "    animation:\n",
              "      spin 1s steps(1) infinite;\n",
              "  }\n",
              "\n",
              "  @keyframes spin {\n",
              "    0% {\n",
              "      border-color: transparent;\n",
              "      border-bottom-color: var(--fill-color);\n",
              "      border-left-color: var(--fill-color);\n",
              "    }\n",
              "    20% {\n",
              "      border-color: transparent;\n",
              "      border-left-color: var(--fill-color);\n",
              "      border-top-color: var(--fill-color);\n",
              "    }\n",
              "    30% {\n",
              "      border-color: transparent;\n",
              "      border-left-color: var(--fill-color);\n",
              "      border-top-color: var(--fill-color);\n",
              "      border-right-color: var(--fill-color);\n",
              "    }\n",
              "    40% {\n",
              "      border-color: transparent;\n",
              "      border-right-color: var(--fill-color);\n",
              "      border-top-color: var(--fill-color);\n",
              "    }\n",
              "    60% {\n",
              "      border-color: transparent;\n",
              "      border-right-color: var(--fill-color);\n",
              "    }\n",
              "    80% {\n",
              "      border-color: transparent;\n",
              "      border-right-color: var(--fill-color);\n",
              "      border-bottom-color: var(--fill-color);\n",
              "    }\n",
              "    90% {\n",
              "      border-color: transparent;\n",
              "      border-bottom-color: var(--fill-color);\n",
              "    }\n",
              "  }\n",
              "</style>\n",
              "\n",
              "  <script>\n",
              "    async function quickchart(key) {\n",
              "      const quickchartButtonEl =\n",
              "        document.querySelector('#' + key + ' button');\n",
              "      quickchartButtonEl.disabled = true;  // To prevent multiple clicks.\n",
              "      quickchartButtonEl.classList.add('colab-df-spinner');\n",
              "      try {\n",
              "        const charts = await google.colab.kernel.invokeFunction(\n",
              "            'suggestCharts', [key], {});\n",
              "      } catch (error) {\n",
              "        console.error('Error during call to suggestCharts:', error);\n",
              "      }\n",
              "      quickchartButtonEl.classList.remove('colab-df-spinner');\n",
              "      quickchartButtonEl.classList.add('colab-df-quickchart-complete');\n",
              "    }\n",
              "    (() => {\n",
              "      let quickchartButtonEl =\n",
              "        document.querySelector('#df-f2f48c31-8b96-4038-9af4-00c68c309da2 button');\n",
              "      quickchartButtonEl.style.display =\n",
              "        google.colab.kernel.accessAllowed ? 'block' : 'none';\n",
              "    })();\n",
              "  </script>\n",
              "</div>\n",
              "\n",
              "    </div>\n",
              "  </div>\n"
            ]
          },
          "metadata": {},
          "execution_count": 34
        }
      ]
    },
    {
      "cell_type": "code",
      "source": [
        "df.info()"
      ],
      "metadata": {
        "colab": {
          "base_uri": "https://localhost:8080/"
        },
        "id": "lcpySdCLYjce",
        "outputId": "4f821ca6-2efd-4852-91d2-219dd74a88d9"
      },
      "execution_count": null,
      "outputs": [
        {
          "output_type": "stream",
          "name": "stdout",
          "text": [
            "<class 'pandas.core.frame.DataFrame'>\n",
            "RangeIndex: 614 entries, 0 to 613\n",
            "Data columns (total 13 columns):\n",
            " #   Column             Non-Null Count  Dtype  \n",
            "---  ------             --------------  -----  \n",
            " 0   Loan_ID            614 non-null    object \n",
            " 1   Gender             601 non-null    object \n",
            " 2   Married            611 non-null    object \n",
            " 3   Dependents         599 non-null    float64\n",
            " 4   Education          614 non-null    object \n",
            " 5   Self_Employed      582 non-null    object \n",
            " 6   ApplicantIncome    614 non-null    int64  \n",
            " 7   CoapplicantIncome  614 non-null    float64\n",
            " 8   LoanAmount         592 non-null    float64\n",
            " 9   Loan_Amount_Term   600 non-null    float64\n",
            " 10  Credit_History     564 non-null    float64\n",
            " 11  Property_Area      614 non-null    object \n",
            " 12  Loan_Status        614 non-null    object \n",
            "dtypes: float64(5), int64(1), object(7)\n",
            "memory usage: 62.5+ KB\n"
          ]
        }
      ]
    },
    {
      "cell_type": "code",
      "source": [
        "df.isna().any()"
      ],
      "metadata": {
        "colab": {
          "base_uri": "https://localhost:8080/"
        },
        "id": "_ZQUH0aLYuAg",
        "outputId": "b49ed1d7-bc9a-4931-f582-e6aafe332a9e"
      },
      "execution_count": null,
      "outputs": [
        {
          "output_type": "execute_result",
          "data": {
            "text/plain": [
              "Loan_ID              False\n",
              "Gender                True\n",
              "Married               True\n",
              "Dependents            True\n",
              "Education            False\n",
              "Self_Employed         True\n",
              "ApplicantIncome      False\n",
              "CoapplicantIncome    False\n",
              "LoanAmount            True\n",
              "Loan_Amount_Term      True\n",
              "Credit_History        True\n",
              "Property_Area        False\n",
              "Loan_Status          False\n",
              "dtype: bool"
            ]
          },
          "metadata": {},
          "execution_count": 36
        }
      ]
    },
    {
      "cell_type": "code",
      "source": [
        "df=df.dropna()"
      ],
      "metadata": {
        "id": "p9WzcsCVYpf0"
      },
      "execution_count": null,
      "outputs": []
    },
    {
      "cell_type": "code",
      "source": [
        "df.info()"
      ],
      "metadata": {
        "colab": {
          "base_uri": "https://localhost:8080/"
        },
        "id": "OpL35MWNYqze",
        "outputId": "67fff069-4224-4b9d-b95e-3db2d18c3511"
      },
      "execution_count": null,
      "outputs": [
        {
          "output_type": "stream",
          "name": "stdout",
          "text": [
            "<class 'pandas.core.frame.DataFrame'>\n",
            "Int64Index: 480 entries, 1 to 613\n",
            "Data columns (total 13 columns):\n",
            " #   Column             Non-Null Count  Dtype  \n",
            "---  ------             --------------  -----  \n",
            " 0   Loan_ID            480 non-null    object \n",
            " 1   Gender             480 non-null    object \n",
            " 2   Married            480 non-null    object \n",
            " 3   Dependents         480 non-null    float64\n",
            " 4   Education          480 non-null    object \n",
            " 5   Self_Employed      480 non-null    object \n",
            " 6   ApplicantIncome    480 non-null    int64  \n",
            " 7   CoapplicantIncome  480 non-null    float64\n",
            " 8   LoanAmount         480 non-null    float64\n",
            " 9   Loan_Amount_Term   480 non-null    float64\n",
            " 10  Credit_History     480 non-null    float64\n",
            " 11  Property_Area      480 non-null    object \n",
            " 12  Loan_Status        480 non-null    object \n",
            "dtypes: float64(5), int64(1), object(7)\n",
            "memory usage: 52.5+ KB\n"
          ]
        }
      ]
    },
    {
      "cell_type": "code",
      "source": [
        "df=df.drop('Loan_ID',axis=1)\n",
        "df['LoanAmount']=(df['LoanAmount']*1000).astype(int)"
      ],
      "metadata": {
        "id": "ft6vu0ZAYsYo"
      },
      "execution_count": null,
      "outputs": []
    },
    {
      "cell_type": "code",
      "source": [
        "from collections import Counter\n",
        "Counter(df['Loan_Status'])['Y']/df['Loan_Status'].size"
      ],
      "metadata": {
        "colab": {
          "base_uri": "https://localhost:8080/"
        },
        "id": "LRcpPbFBYw9c",
        "outputId": "ef38ea26-b503-4369-dc70-93d3a88d376a"
      },
      "execution_count": null,
      "outputs": [
        {
          "output_type": "execute_result",
          "data": {
            "text/plain": [
              "0.6916666666666667"
            ]
          },
          "metadata": {},
          "execution_count": 40
        }
      ]
    },
    {
      "cell_type": "code",
      "source": [
        "Counter(df['Loan_Status'])"
      ],
      "metadata": {
        "colab": {
          "base_uri": "https://localhost:8080/"
        },
        "id": "76g3TEj4Y0Ht",
        "outputId": "eccb4881-7892-41ad-c321-1395472c4672"
      },
      "execution_count": null,
      "outputs": [
        {
          "output_type": "execute_result",
          "data": {
            "text/plain": [
              "Counter({'N': 148, 'Y': 332})"
            ]
          },
          "metadata": {},
          "execution_count": 41
        }
      ]
    },
    {
      "cell_type": "code",
      "source": [
        "y_data=df['Loan_Status']\n",
        "X_data=df.drop('Loan_Status',axis=1)"
      ],
      "metadata": {
        "id": "3fvqDC-7Y1CJ"
      },
      "execution_count": null,
      "outputs": []
    },
    {
      "cell_type": "code",
      "source": [
        "X_data.head()"
      ],
      "metadata": {
        "colab": {
          "base_uri": "https://localhost:8080/",
          "height": 206
        },
        "id": "QP64MGa1Y233",
        "outputId": "cc97f17c-4781-4312-fe3e-3affe74b0b48"
      },
      "execution_count": null,
      "outputs": [
        {
          "output_type": "execute_result",
          "data": {
            "text/plain": [
              "  Gender Married  Dependents     Education Self_Employed  ApplicantIncome  \\\n",
              "1   Male     Yes         1.0      Graduate            No             4583   \n",
              "2   Male     Yes         0.0      Graduate           Yes             3000   \n",
              "3   Male     Yes         0.0  Not Graduate            No             2583   \n",
              "4   Male      No         0.0      Graduate            No             6000   \n",
              "5   Male     Yes         2.0      Graduate           Yes             5417   \n",
              "\n",
              "   CoapplicantIncome  LoanAmount  Loan_Amount_Term  Credit_History  \\\n",
              "1             1508.0      128000             360.0             1.0   \n",
              "2                0.0       66000             360.0             1.0   \n",
              "3             2358.0      120000             360.0             1.0   \n",
              "4                0.0      141000             360.0             1.0   \n",
              "5             4196.0      267000             360.0             1.0   \n",
              "\n",
              "  Property_Area  \n",
              "1         Rural  \n",
              "2         Urban  \n",
              "3         Urban  \n",
              "4         Urban  \n",
              "5         Urban  "
            ],
            "text/html": [
              "\n",
              "  <div id=\"df-85832126-3a2e-4f51-99be-bb3d32e6600e\" class=\"colab-df-container\">\n",
              "    <div>\n",
              "<style scoped>\n",
              "    .dataframe tbody tr th:only-of-type {\n",
              "        vertical-align: middle;\n",
              "    }\n",
              "\n",
              "    .dataframe tbody tr th {\n",
              "        vertical-align: top;\n",
              "    }\n",
              "\n",
              "    .dataframe thead th {\n",
              "        text-align: right;\n",
              "    }\n",
              "</style>\n",
              "<table border=\"1\" class=\"dataframe\">\n",
              "  <thead>\n",
              "    <tr style=\"text-align: right;\">\n",
              "      <th></th>\n",
              "      <th>Gender</th>\n",
              "      <th>Married</th>\n",
              "      <th>Dependents</th>\n",
              "      <th>Education</th>\n",
              "      <th>Self_Employed</th>\n",
              "      <th>ApplicantIncome</th>\n",
              "      <th>CoapplicantIncome</th>\n",
              "      <th>LoanAmount</th>\n",
              "      <th>Loan_Amount_Term</th>\n",
              "      <th>Credit_History</th>\n",
              "      <th>Property_Area</th>\n",
              "    </tr>\n",
              "  </thead>\n",
              "  <tbody>\n",
              "    <tr>\n",
              "      <th>1</th>\n",
              "      <td>Male</td>\n",
              "      <td>Yes</td>\n",
              "      <td>1.0</td>\n",
              "      <td>Graduate</td>\n",
              "      <td>No</td>\n",
              "      <td>4583</td>\n",
              "      <td>1508.0</td>\n",
              "      <td>128000</td>\n",
              "      <td>360.0</td>\n",
              "      <td>1.0</td>\n",
              "      <td>Rural</td>\n",
              "    </tr>\n",
              "    <tr>\n",
              "      <th>2</th>\n",
              "      <td>Male</td>\n",
              "      <td>Yes</td>\n",
              "      <td>0.0</td>\n",
              "      <td>Graduate</td>\n",
              "      <td>Yes</td>\n",
              "      <td>3000</td>\n",
              "      <td>0.0</td>\n",
              "      <td>66000</td>\n",
              "      <td>360.0</td>\n",
              "      <td>1.0</td>\n",
              "      <td>Urban</td>\n",
              "    </tr>\n",
              "    <tr>\n",
              "      <th>3</th>\n",
              "      <td>Male</td>\n",
              "      <td>Yes</td>\n",
              "      <td>0.0</td>\n",
              "      <td>Not Graduate</td>\n",
              "      <td>No</td>\n",
              "      <td>2583</td>\n",
              "      <td>2358.0</td>\n",
              "      <td>120000</td>\n",
              "      <td>360.0</td>\n",
              "      <td>1.0</td>\n",
              "      <td>Urban</td>\n",
              "    </tr>\n",
              "    <tr>\n",
              "      <th>4</th>\n",
              "      <td>Male</td>\n",
              "      <td>No</td>\n",
              "      <td>0.0</td>\n",
              "      <td>Graduate</td>\n",
              "      <td>No</td>\n",
              "      <td>6000</td>\n",
              "      <td>0.0</td>\n",
              "      <td>141000</td>\n",
              "      <td>360.0</td>\n",
              "      <td>1.0</td>\n",
              "      <td>Urban</td>\n",
              "    </tr>\n",
              "    <tr>\n",
              "      <th>5</th>\n",
              "      <td>Male</td>\n",
              "      <td>Yes</td>\n",
              "      <td>2.0</td>\n",
              "      <td>Graduate</td>\n",
              "      <td>Yes</td>\n",
              "      <td>5417</td>\n",
              "      <td>4196.0</td>\n",
              "      <td>267000</td>\n",
              "      <td>360.0</td>\n",
              "      <td>1.0</td>\n",
              "      <td>Urban</td>\n",
              "    </tr>\n",
              "  </tbody>\n",
              "</table>\n",
              "</div>\n",
              "    <div class=\"colab-df-buttons\">\n",
              "\n",
              "  <div class=\"colab-df-container\">\n",
              "    <button class=\"colab-df-convert\" onclick=\"convertToInteractive('df-85832126-3a2e-4f51-99be-bb3d32e6600e')\"\n",
              "            title=\"Convert this dataframe to an interactive table.\"\n",
              "            style=\"display:none;\">\n",
              "\n",
              "  <svg xmlns=\"http://www.w3.org/2000/svg\" height=\"24px\" viewBox=\"0 -960 960 960\">\n",
              "    <path d=\"M120-120v-720h720v720H120Zm60-500h600v-160H180v160Zm220 220h160v-160H400v160Zm0 220h160v-160H400v160ZM180-400h160v-160H180v160Zm440 0h160v-160H620v160ZM180-180h160v-160H180v160Zm440 0h160v-160H620v160Z\"/>\n",
              "  </svg>\n",
              "    </button>\n",
              "\n",
              "  <style>\n",
              "    .colab-df-container {\n",
              "      display:flex;\n",
              "      gap: 12px;\n",
              "    }\n",
              "\n",
              "    .colab-df-convert {\n",
              "      background-color: #E8F0FE;\n",
              "      border: none;\n",
              "      border-radius: 50%;\n",
              "      cursor: pointer;\n",
              "      display: none;\n",
              "      fill: #1967D2;\n",
              "      height: 32px;\n",
              "      padding: 0 0 0 0;\n",
              "      width: 32px;\n",
              "    }\n",
              "\n",
              "    .colab-df-convert:hover {\n",
              "      background-color: #E2EBFA;\n",
              "      box-shadow: 0px 1px 2px rgba(60, 64, 67, 0.3), 0px 1px 3px 1px rgba(60, 64, 67, 0.15);\n",
              "      fill: #174EA6;\n",
              "    }\n",
              "\n",
              "    .colab-df-buttons div {\n",
              "      margin-bottom: 4px;\n",
              "    }\n",
              "\n",
              "    [theme=dark] .colab-df-convert {\n",
              "      background-color: #3B4455;\n",
              "      fill: #D2E3FC;\n",
              "    }\n",
              "\n",
              "    [theme=dark] .colab-df-convert:hover {\n",
              "      background-color: #434B5C;\n",
              "      box-shadow: 0px 1px 3px 1px rgba(0, 0, 0, 0.15);\n",
              "      filter: drop-shadow(0px 1px 2px rgba(0, 0, 0, 0.3));\n",
              "      fill: #FFFFFF;\n",
              "    }\n",
              "  </style>\n",
              "\n",
              "    <script>\n",
              "      const buttonEl =\n",
              "        document.querySelector('#df-85832126-3a2e-4f51-99be-bb3d32e6600e button.colab-df-convert');\n",
              "      buttonEl.style.display =\n",
              "        google.colab.kernel.accessAllowed ? 'block' : 'none';\n",
              "\n",
              "      async function convertToInteractive(key) {\n",
              "        const element = document.querySelector('#df-85832126-3a2e-4f51-99be-bb3d32e6600e');\n",
              "        const dataTable =\n",
              "          await google.colab.kernel.invokeFunction('convertToInteractive',\n",
              "                                                    [key], {});\n",
              "        if (!dataTable) return;\n",
              "\n",
              "        const docLinkHtml = 'Like what you see? Visit the ' +\n",
              "          '<a target=\"_blank\" href=https://colab.research.google.com/notebooks/data_table.ipynb>data table notebook</a>'\n",
              "          + ' to learn more about interactive tables.';\n",
              "        element.innerHTML = '';\n",
              "        dataTable['output_type'] = 'display_data';\n",
              "        await google.colab.output.renderOutput(dataTable, element);\n",
              "        const docLink = document.createElement('div');\n",
              "        docLink.innerHTML = docLinkHtml;\n",
              "        element.appendChild(docLink);\n",
              "      }\n",
              "    </script>\n",
              "  </div>\n",
              "\n",
              "\n",
              "<div id=\"df-6aab11c0-9b7d-4f16-a1aa-1a11356b7e65\">\n",
              "  <button class=\"colab-df-quickchart\" onclick=\"quickchart('df-6aab11c0-9b7d-4f16-a1aa-1a11356b7e65')\"\n",
              "            title=\"Suggest charts\"\n",
              "            style=\"display:none;\">\n",
              "\n",
              "<svg xmlns=\"http://www.w3.org/2000/svg\" height=\"24px\"viewBox=\"0 0 24 24\"\n",
              "     width=\"24px\">\n",
              "    <g>\n",
              "        <path d=\"M19 3H5c-1.1 0-2 .9-2 2v14c0 1.1.9 2 2 2h14c1.1 0 2-.9 2-2V5c0-1.1-.9-2-2-2zM9 17H7v-7h2v7zm4 0h-2V7h2v10zm4 0h-2v-4h2v4z\"/>\n",
              "    </g>\n",
              "</svg>\n",
              "  </button>\n",
              "\n",
              "<style>\n",
              "  .colab-df-quickchart {\n",
              "      --bg-color: #E8F0FE;\n",
              "      --fill-color: #1967D2;\n",
              "      --hover-bg-color: #E2EBFA;\n",
              "      --hover-fill-color: #174EA6;\n",
              "      --disabled-fill-color: #AAA;\n",
              "      --disabled-bg-color: #DDD;\n",
              "  }\n",
              "\n",
              "  [theme=dark] .colab-df-quickchart {\n",
              "      --bg-color: #3B4455;\n",
              "      --fill-color: #D2E3FC;\n",
              "      --hover-bg-color: #434B5C;\n",
              "      --hover-fill-color: #FFFFFF;\n",
              "      --disabled-bg-color: #3B4455;\n",
              "      --disabled-fill-color: #666;\n",
              "  }\n",
              "\n",
              "  .colab-df-quickchart {\n",
              "    background-color: var(--bg-color);\n",
              "    border: none;\n",
              "    border-radius: 50%;\n",
              "    cursor: pointer;\n",
              "    display: none;\n",
              "    fill: var(--fill-color);\n",
              "    height: 32px;\n",
              "    padding: 0;\n",
              "    width: 32px;\n",
              "  }\n",
              "\n",
              "  .colab-df-quickchart:hover {\n",
              "    background-color: var(--hover-bg-color);\n",
              "    box-shadow: 0 1px 2px rgba(60, 64, 67, 0.3), 0 1px 3px 1px rgba(60, 64, 67, 0.15);\n",
              "    fill: var(--button-hover-fill-color);\n",
              "  }\n",
              "\n",
              "  .colab-df-quickchart-complete:disabled,\n",
              "  .colab-df-quickchart-complete:disabled:hover {\n",
              "    background-color: var(--disabled-bg-color);\n",
              "    fill: var(--disabled-fill-color);\n",
              "    box-shadow: none;\n",
              "  }\n",
              "\n",
              "  .colab-df-spinner {\n",
              "    border: 2px solid var(--fill-color);\n",
              "    border-color: transparent;\n",
              "    border-bottom-color: var(--fill-color);\n",
              "    animation:\n",
              "      spin 1s steps(1) infinite;\n",
              "  }\n",
              "\n",
              "  @keyframes spin {\n",
              "    0% {\n",
              "      border-color: transparent;\n",
              "      border-bottom-color: var(--fill-color);\n",
              "      border-left-color: var(--fill-color);\n",
              "    }\n",
              "    20% {\n",
              "      border-color: transparent;\n",
              "      border-left-color: var(--fill-color);\n",
              "      border-top-color: var(--fill-color);\n",
              "    }\n",
              "    30% {\n",
              "      border-color: transparent;\n",
              "      border-left-color: var(--fill-color);\n",
              "      border-top-color: var(--fill-color);\n",
              "      border-right-color: var(--fill-color);\n",
              "    }\n",
              "    40% {\n",
              "      border-color: transparent;\n",
              "      border-right-color: var(--fill-color);\n",
              "      border-top-color: var(--fill-color);\n",
              "    }\n",
              "    60% {\n",
              "      border-color: transparent;\n",
              "      border-right-color: var(--fill-color);\n",
              "    }\n",
              "    80% {\n",
              "      border-color: transparent;\n",
              "      border-right-color: var(--fill-color);\n",
              "      border-bottom-color: var(--fill-color);\n",
              "    }\n",
              "    90% {\n",
              "      border-color: transparent;\n",
              "      border-bottom-color: var(--fill-color);\n",
              "    }\n",
              "  }\n",
              "</style>\n",
              "\n",
              "  <script>\n",
              "    async function quickchart(key) {\n",
              "      const quickchartButtonEl =\n",
              "        document.querySelector('#' + key + ' button');\n",
              "      quickchartButtonEl.disabled = true;  // To prevent multiple clicks.\n",
              "      quickchartButtonEl.classList.add('colab-df-spinner');\n",
              "      try {\n",
              "        const charts = await google.colab.kernel.invokeFunction(\n",
              "            'suggestCharts', [key], {});\n",
              "      } catch (error) {\n",
              "        console.error('Error during call to suggestCharts:', error);\n",
              "      }\n",
              "      quickchartButtonEl.classList.remove('colab-df-spinner');\n",
              "      quickchartButtonEl.classList.add('colab-df-quickchart-complete');\n",
              "    }\n",
              "    (() => {\n",
              "      let quickchartButtonEl =\n",
              "        document.querySelector('#df-6aab11c0-9b7d-4f16-a1aa-1a11356b7e65 button');\n",
              "      quickchartButtonEl.style.display =\n",
              "        google.colab.kernel.accessAllowed ? 'block' : 'none';\n",
              "    })();\n",
              "  </script>\n",
              "</div>\n",
              "\n",
              "    </div>\n",
              "  </div>\n"
            ]
          },
          "metadata": {},
          "execution_count": 43
        }
      ]
    },
    {
      "cell_type": "code",
      "source": [
        "xd=pd.get_dummies(X_data)\n",
        "yd=y_data.map(dict(Y=1,N=0))\n",
        "yd.shape"
      ],
      "metadata": {
        "colab": {
          "base_uri": "https://localhost:8080/"
        },
        "id": "yVB92FVXY4f2",
        "outputId": "eba2e511-40fe-4cbd-d55c-f4ca268a2a48"
      },
      "execution_count": null,
      "outputs": [
        {
          "output_type": "execute_result",
          "data": {
            "text/plain": [
              "(480,)"
            ]
          },
          "metadata": {},
          "execution_count": 44
        }
      ]
    },
    {
      "cell_type": "code",
      "source": [
        "xd.head()"
      ],
      "metadata": {
        "colab": {
          "base_uri": "https://localhost:8080/",
          "height": 244
        },
        "id": "zDDYE8tWY7Cq",
        "outputId": "37d6173d-4099-42ce-e0c8-c3f065795af1"
      },
      "execution_count": null,
      "outputs": [
        {
          "output_type": "execute_result",
          "data": {
            "text/plain": [
              "   Dependents  ApplicantIncome  CoapplicantIncome  LoanAmount  \\\n",
              "1         1.0             4583             1508.0      128000   \n",
              "2         0.0             3000                0.0       66000   \n",
              "3         0.0             2583             2358.0      120000   \n",
              "4         0.0             6000                0.0      141000   \n",
              "5         2.0             5417             4196.0      267000   \n",
              "\n",
              "   Loan_Amount_Term  Credit_History  Gender_Female  Gender_Male  Married_No  \\\n",
              "1             360.0             1.0              0            1           0   \n",
              "2             360.0             1.0              0            1           0   \n",
              "3             360.0             1.0              0            1           0   \n",
              "4             360.0             1.0              0            1           1   \n",
              "5             360.0             1.0              0            1           0   \n",
              "\n",
              "   Married_Yes  Education_Graduate  Education_Not Graduate  Self_Employed_No  \\\n",
              "1            1                   1                       0                 1   \n",
              "2            1                   1                       0                 0   \n",
              "3            1                   0                       1                 1   \n",
              "4            0                   1                       0                 1   \n",
              "5            1                   1                       0                 0   \n",
              "\n",
              "   Self_Employed_Yes  Property_Area_Rural  Property_Area_Semiurban  \\\n",
              "1                  0                    1                        0   \n",
              "2                  1                    0                        0   \n",
              "3                  0                    0                        0   \n",
              "4                  0                    0                        0   \n",
              "5                  1                    0                        0   \n",
              "\n",
              "   Property_Area_Urban  \n",
              "1                    0  \n",
              "2                    1  \n",
              "3                    1  \n",
              "4                    1  \n",
              "5                    1  "
            ],
            "text/html": [
              "\n",
              "  <div id=\"df-9687fe2a-411c-4b8f-be10-4a4f40e8d9d9\" class=\"colab-df-container\">\n",
              "    <div>\n",
              "<style scoped>\n",
              "    .dataframe tbody tr th:only-of-type {\n",
              "        vertical-align: middle;\n",
              "    }\n",
              "\n",
              "    .dataframe tbody tr th {\n",
              "        vertical-align: top;\n",
              "    }\n",
              "\n",
              "    .dataframe thead th {\n",
              "        text-align: right;\n",
              "    }\n",
              "</style>\n",
              "<table border=\"1\" class=\"dataframe\">\n",
              "  <thead>\n",
              "    <tr style=\"text-align: right;\">\n",
              "      <th></th>\n",
              "      <th>Dependents</th>\n",
              "      <th>ApplicantIncome</th>\n",
              "      <th>CoapplicantIncome</th>\n",
              "      <th>LoanAmount</th>\n",
              "      <th>Loan_Amount_Term</th>\n",
              "      <th>Credit_History</th>\n",
              "      <th>Gender_Female</th>\n",
              "      <th>Gender_Male</th>\n",
              "      <th>Married_No</th>\n",
              "      <th>Married_Yes</th>\n",
              "      <th>Education_Graduate</th>\n",
              "      <th>Education_Not Graduate</th>\n",
              "      <th>Self_Employed_No</th>\n",
              "      <th>Self_Employed_Yes</th>\n",
              "      <th>Property_Area_Rural</th>\n",
              "      <th>Property_Area_Semiurban</th>\n",
              "      <th>Property_Area_Urban</th>\n",
              "    </tr>\n",
              "  </thead>\n",
              "  <tbody>\n",
              "    <tr>\n",
              "      <th>1</th>\n",
              "      <td>1.0</td>\n",
              "      <td>4583</td>\n",
              "      <td>1508.0</td>\n",
              "      <td>128000</td>\n",
              "      <td>360.0</td>\n",
              "      <td>1.0</td>\n",
              "      <td>0</td>\n",
              "      <td>1</td>\n",
              "      <td>0</td>\n",
              "      <td>1</td>\n",
              "      <td>1</td>\n",
              "      <td>0</td>\n",
              "      <td>1</td>\n",
              "      <td>0</td>\n",
              "      <td>1</td>\n",
              "      <td>0</td>\n",
              "      <td>0</td>\n",
              "    </tr>\n",
              "    <tr>\n",
              "      <th>2</th>\n",
              "      <td>0.0</td>\n",
              "      <td>3000</td>\n",
              "      <td>0.0</td>\n",
              "      <td>66000</td>\n",
              "      <td>360.0</td>\n",
              "      <td>1.0</td>\n",
              "      <td>0</td>\n",
              "      <td>1</td>\n",
              "      <td>0</td>\n",
              "      <td>1</td>\n",
              "      <td>1</td>\n",
              "      <td>0</td>\n",
              "      <td>0</td>\n",
              "      <td>1</td>\n",
              "      <td>0</td>\n",
              "      <td>0</td>\n",
              "      <td>1</td>\n",
              "    </tr>\n",
              "    <tr>\n",
              "      <th>3</th>\n",
              "      <td>0.0</td>\n",
              "      <td>2583</td>\n",
              "      <td>2358.0</td>\n",
              "      <td>120000</td>\n",
              "      <td>360.0</td>\n",
              "      <td>1.0</td>\n",
              "      <td>0</td>\n",
              "      <td>1</td>\n",
              "      <td>0</td>\n",
              "      <td>1</td>\n",
              "      <td>0</td>\n",
              "      <td>1</td>\n",
              "      <td>1</td>\n",
              "      <td>0</td>\n",
              "      <td>0</td>\n",
              "      <td>0</td>\n",
              "      <td>1</td>\n",
              "    </tr>\n",
              "    <tr>\n",
              "      <th>4</th>\n",
              "      <td>0.0</td>\n",
              "      <td>6000</td>\n",
              "      <td>0.0</td>\n",
              "      <td>141000</td>\n",
              "      <td>360.0</td>\n",
              "      <td>1.0</td>\n",
              "      <td>0</td>\n",
              "      <td>1</td>\n",
              "      <td>1</td>\n",
              "      <td>0</td>\n",
              "      <td>1</td>\n",
              "      <td>0</td>\n",
              "      <td>1</td>\n",
              "      <td>0</td>\n",
              "      <td>0</td>\n",
              "      <td>0</td>\n",
              "      <td>1</td>\n",
              "    </tr>\n",
              "    <tr>\n",
              "      <th>5</th>\n",
              "      <td>2.0</td>\n",
              "      <td>5417</td>\n",
              "      <td>4196.0</td>\n",
              "      <td>267000</td>\n",
              "      <td>360.0</td>\n",
              "      <td>1.0</td>\n",
              "      <td>0</td>\n",
              "      <td>1</td>\n",
              "      <td>0</td>\n",
              "      <td>1</td>\n",
              "      <td>1</td>\n",
              "      <td>0</td>\n",
              "      <td>0</td>\n",
              "      <td>1</td>\n",
              "      <td>0</td>\n",
              "      <td>0</td>\n",
              "      <td>1</td>\n",
              "    </tr>\n",
              "  </tbody>\n",
              "</table>\n",
              "</div>\n",
              "    <div class=\"colab-df-buttons\">\n",
              "\n",
              "  <div class=\"colab-df-container\">\n",
              "    <button class=\"colab-df-convert\" onclick=\"convertToInteractive('df-9687fe2a-411c-4b8f-be10-4a4f40e8d9d9')\"\n",
              "            title=\"Convert this dataframe to an interactive table.\"\n",
              "            style=\"display:none;\">\n",
              "\n",
              "  <svg xmlns=\"http://www.w3.org/2000/svg\" height=\"24px\" viewBox=\"0 -960 960 960\">\n",
              "    <path d=\"M120-120v-720h720v720H120Zm60-500h600v-160H180v160Zm220 220h160v-160H400v160Zm0 220h160v-160H400v160ZM180-400h160v-160H180v160Zm440 0h160v-160H620v160ZM180-180h160v-160H180v160Zm440 0h160v-160H620v160Z\"/>\n",
              "  </svg>\n",
              "    </button>\n",
              "\n",
              "  <style>\n",
              "    .colab-df-container {\n",
              "      display:flex;\n",
              "      gap: 12px;\n",
              "    }\n",
              "\n",
              "    .colab-df-convert {\n",
              "      background-color: #E8F0FE;\n",
              "      border: none;\n",
              "      border-radius: 50%;\n",
              "      cursor: pointer;\n",
              "      display: none;\n",
              "      fill: #1967D2;\n",
              "      height: 32px;\n",
              "      padding: 0 0 0 0;\n",
              "      width: 32px;\n",
              "    }\n",
              "\n",
              "    .colab-df-convert:hover {\n",
              "      background-color: #E2EBFA;\n",
              "      box-shadow: 0px 1px 2px rgba(60, 64, 67, 0.3), 0px 1px 3px 1px rgba(60, 64, 67, 0.15);\n",
              "      fill: #174EA6;\n",
              "    }\n",
              "\n",
              "    .colab-df-buttons div {\n",
              "      margin-bottom: 4px;\n",
              "    }\n",
              "\n",
              "    [theme=dark] .colab-df-convert {\n",
              "      background-color: #3B4455;\n",
              "      fill: #D2E3FC;\n",
              "    }\n",
              "\n",
              "    [theme=dark] .colab-df-convert:hover {\n",
              "      background-color: #434B5C;\n",
              "      box-shadow: 0px 1px 3px 1px rgba(0, 0, 0, 0.15);\n",
              "      filter: drop-shadow(0px 1px 2px rgba(0, 0, 0, 0.3));\n",
              "      fill: #FFFFFF;\n",
              "    }\n",
              "  </style>\n",
              "\n",
              "    <script>\n",
              "      const buttonEl =\n",
              "        document.querySelector('#df-9687fe2a-411c-4b8f-be10-4a4f40e8d9d9 button.colab-df-convert');\n",
              "      buttonEl.style.display =\n",
              "        google.colab.kernel.accessAllowed ? 'block' : 'none';\n",
              "\n",
              "      async function convertToInteractive(key) {\n",
              "        const element = document.querySelector('#df-9687fe2a-411c-4b8f-be10-4a4f40e8d9d9');\n",
              "        const dataTable =\n",
              "          await google.colab.kernel.invokeFunction('convertToInteractive',\n",
              "                                                    [key], {});\n",
              "        if (!dataTable) return;\n",
              "\n",
              "        const docLinkHtml = 'Like what you see? Visit the ' +\n",
              "          '<a target=\"_blank\" href=https://colab.research.google.com/notebooks/data_table.ipynb>data table notebook</a>'\n",
              "          + ' to learn more about interactive tables.';\n",
              "        element.innerHTML = '';\n",
              "        dataTable['output_type'] = 'display_data';\n",
              "        await google.colab.output.renderOutput(dataTable, element);\n",
              "        const docLink = document.createElement('div');\n",
              "        docLink.innerHTML = docLinkHtml;\n",
              "        element.appendChild(docLink);\n",
              "      }\n",
              "    </script>\n",
              "  </div>\n",
              "\n",
              "\n",
              "<div id=\"df-8ffd93fa-b746-4b2b-ad2e-c8735ae8b7a6\">\n",
              "  <button class=\"colab-df-quickchart\" onclick=\"quickchart('df-8ffd93fa-b746-4b2b-ad2e-c8735ae8b7a6')\"\n",
              "            title=\"Suggest charts\"\n",
              "            style=\"display:none;\">\n",
              "\n",
              "<svg xmlns=\"http://www.w3.org/2000/svg\" height=\"24px\"viewBox=\"0 0 24 24\"\n",
              "     width=\"24px\">\n",
              "    <g>\n",
              "        <path d=\"M19 3H5c-1.1 0-2 .9-2 2v14c0 1.1.9 2 2 2h14c1.1 0 2-.9 2-2V5c0-1.1-.9-2-2-2zM9 17H7v-7h2v7zm4 0h-2V7h2v10zm4 0h-2v-4h2v4z\"/>\n",
              "    </g>\n",
              "</svg>\n",
              "  </button>\n",
              "\n",
              "<style>\n",
              "  .colab-df-quickchart {\n",
              "      --bg-color: #E8F0FE;\n",
              "      --fill-color: #1967D2;\n",
              "      --hover-bg-color: #E2EBFA;\n",
              "      --hover-fill-color: #174EA6;\n",
              "      --disabled-fill-color: #AAA;\n",
              "      --disabled-bg-color: #DDD;\n",
              "  }\n",
              "\n",
              "  [theme=dark] .colab-df-quickchart {\n",
              "      --bg-color: #3B4455;\n",
              "      --fill-color: #D2E3FC;\n",
              "      --hover-bg-color: #434B5C;\n",
              "      --hover-fill-color: #FFFFFF;\n",
              "      --disabled-bg-color: #3B4455;\n",
              "      --disabled-fill-color: #666;\n",
              "  }\n",
              "\n",
              "  .colab-df-quickchart {\n",
              "    background-color: var(--bg-color);\n",
              "    border: none;\n",
              "    border-radius: 50%;\n",
              "    cursor: pointer;\n",
              "    display: none;\n",
              "    fill: var(--fill-color);\n",
              "    height: 32px;\n",
              "    padding: 0;\n",
              "    width: 32px;\n",
              "  }\n",
              "\n",
              "  .colab-df-quickchart:hover {\n",
              "    background-color: var(--hover-bg-color);\n",
              "    box-shadow: 0 1px 2px rgba(60, 64, 67, 0.3), 0 1px 3px 1px rgba(60, 64, 67, 0.15);\n",
              "    fill: var(--button-hover-fill-color);\n",
              "  }\n",
              "\n",
              "  .colab-df-quickchart-complete:disabled,\n",
              "  .colab-df-quickchart-complete:disabled:hover {\n",
              "    background-color: var(--disabled-bg-color);\n",
              "    fill: var(--disabled-fill-color);\n",
              "    box-shadow: none;\n",
              "  }\n",
              "\n",
              "  .colab-df-spinner {\n",
              "    border: 2px solid var(--fill-color);\n",
              "    border-color: transparent;\n",
              "    border-bottom-color: var(--fill-color);\n",
              "    animation:\n",
              "      spin 1s steps(1) infinite;\n",
              "  }\n",
              "\n",
              "  @keyframes spin {\n",
              "    0% {\n",
              "      border-color: transparent;\n",
              "      border-bottom-color: var(--fill-color);\n",
              "      border-left-color: var(--fill-color);\n",
              "    }\n",
              "    20% {\n",
              "      border-color: transparent;\n",
              "      border-left-color: var(--fill-color);\n",
              "      border-top-color: var(--fill-color);\n",
              "    }\n",
              "    30% {\n",
              "      border-color: transparent;\n",
              "      border-left-color: var(--fill-color);\n",
              "      border-top-color: var(--fill-color);\n",
              "      border-right-color: var(--fill-color);\n",
              "    }\n",
              "    40% {\n",
              "      border-color: transparent;\n",
              "      border-right-color: var(--fill-color);\n",
              "      border-top-color: var(--fill-color);\n",
              "    }\n",
              "    60% {\n",
              "      border-color: transparent;\n",
              "      border-right-color: var(--fill-color);\n",
              "    }\n",
              "    80% {\n",
              "      border-color: transparent;\n",
              "      border-right-color: var(--fill-color);\n",
              "      border-bottom-color: var(--fill-color);\n",
              "    }\n",
              "    90% {\n",
              "      border-color: transparent;\n",
              "      border-bottom-color: var(--fill-color);\n",
              "    }\n",
              "  }\n",
              "</style>\n",
              "\n",
              "  <script>\n",
              "    async function quickchart(key) {\n",
              "      const quickchartButtonEl =\n",
              "        document.querySelector('#' + key + ' button');\n",
              "      quickchartButtonEl.disabled = true;  // To prevent multiple clicks.\n",
              "      quickchartButtonEl.classList.add('colab-df-spinner');\n",
              "      try {\n",
              "        const charts = await google.colab.kernel.invokeFunction(\n",
              "            'suggestCharts', [key], {});\n",
              "      } catch (error) {\n",
              "        console.error('Error during call to suggestCharts:', error);\n",
              "      }\n",
              "      quickchartButtonEl.classList.remove('colab-df-spinner');\n",
              "      quickchartButtonEl.classList.add('colab-df-quickchart-complete');\n",
              "    }\n",
              "    (() => {\n",
              "      let quickchartButtonEl =\n",
              "        document.querySelector('#df-8ffd93fa-b746-4b2b-ad2e-c8735ae8b7a6 button');\n",
              "      quickchartButtonEl.style.display =\n",
              "        google.colab.kernel.accessAllowed ? 'block' : 'none';\n",
              "    })();\n",
              "  </script>\n",
              "</div>\n",
              "\n",
              "    </div>\n",
              "  </div>\n"
            ]
          },
          "metadata": {},
          "execution_count": 45
        }
      ]
    },
    {
      "cell_type": "code",
      "source": [
        "del xd[\"Married_No\"]\n",
        "del xd[\"Education_Not Graduate\"]\n",
        "del xd[\"Self_Employed_No\"]"
      ],
      "metadata": {
        "id": "OTzVnZsVY9f0"
      },
      "execution_count": null,
      "outputs": []
    },
    {
      "cell_type": "code",
      "source": [
        "yd.head()"
      ],
      "metadata": {
        "colab": {
          "base_uri": "https://localhost:8080/"
        },
        "id": "BHqsp2IAZAnC",
        "outputId": "17755080-e89e-456c-8e4d-c080f465bc49"
      },
      "execution_count": null,
      "outputs": [
        {
          "output_type": "execute_result",
          "data": {
            "text/plain": [
              "1    0\n",
              "2    1\n",
              "3    1\n",
              "4    1\n",
              "5    1\n",
              "Name: Loan_Status, dtype: int64"
            ]
          },
          "metadata": {},
          "execution_count": 47
        }
      ]
    },
    {
      "cell_type": "code",
      "source": [
        "from imblearn.over_sampling import SMOTE\n",
        "from sklearn.preprocessing import MinMaxScaler"
      ],
      "metadata": {
        "id": "qV-xI5eMZgAH"
      },
      "execution_count": null,
      "outputs": []
    },
    {
      "cell_type": "code",
      "source": [
        "sm = SMOTE(sampling_strategy=\"minority\")\n",
        "X2, y1 = sm.fit_resample(xd, yd)\n",
        "sc=MinMaxScaler()\n",
        "X1=sc.fit_transform(X2)"
      ],
      "metadata": {
        "id": "vy94aEzKZgu0"
      },
      "execution_count": null,
      "outputs": []
    },
    {
      "cell_type": "code",
      "source": [
        "Counter(y1)"
      ],
      "metadata": {
        "colab": {
          "base_uri": "https://localhost:8080/"
        },
        "id": "L8SUYWdnZmDX",
        "outputId": "0859df63-6c3f-430d-efa9-d7ba87de47ff"
      },
      "execution_count": null,
      "outputs": [
        {
          "output_type": "execute_result",
          "data": {
            "text/plain": [
              "Counter({0: 332, 1: 332})"
            ]
          },
          "metadata": {},
          "execution_count": 50
        }
      ]
    },
    {
      "cell_type": "markdown",
      "source": [
        "![image.png](data:image/png;base64,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)"
      ],
      "metadata": {
        "id": "bK5rGkhDZqmE"
      }
    },
    {
      "cell_type": "code",
      "source": [
        "from sklearn.model_selection import train_test_split"
      ],
      "metadata": {
        "id": "_bIX3Tc9ZosC"
      },
      "execution_count": null,
      "outputs": []
    },
    {
      "cell_type": "code",
      "source": [
        "X_train , X_test , y_train , y_test = train_test_split(X1,y1,test_size=0.2,random_state=42,shuffle=True)"
      ],
      "metadata": {
        "id": "JlH10ZtmZx1Y"
      },
      "execution_count": null,
      "outputs": []
    },
    {
      "cell_type": "code",
      "source": [
        "from sklearn.neighbors import KNeighborsClassifier"
      ],
      "metadata": {
        "id": "X7Zs0JHTaexR"
      },
      "execution_count": null,
      "outputs": []
    },
    {
      "cell_type": "code",
      "source": [
        "knn = KNeighborsClassifier(n_neighbors = 5 )"
      ],
      "metadata": {
        "id": "94gPZGbCagpL"
      },
      "execution_count": null,
      "outputs": []
    },
    {
      "cell_type": "code",
      "source": [
        "knn.fit(X_train,y_train)"
      ],
      "metadata": {
        "colab": {
          "base_uri": "https://localhost:8080/",
          "height": 75
        },
        "id": "YWy_KnkHd867",
        "outputId": "7499b693-d8b8-4b2e-c032-281932cab0cb"
      },
      "execution_count": null,
      "outputs": [
        {
          "output_type": "execute_result",
          "data": {
            "text/plain": [
              "KNeighborsClassifier()"
            ],
            "text/html": [
              "<style>#sk-container-id-2 {color: black;background-color: white;}#sk-container-id-2 pre{padding: 0;}#sk-container-id-2 div.sk-toggleable {background-color: white;}#sk-container-id-2 label.sk-toggleable__label {cursor: pointer;display: block;width: 100%;margin-bottom: 0;padding: 0.3em;box-sizing: border-box;text-align: center;}#sk-container-id-2 label.sk-toggleable__label-arrow:before {content: \"▸\";float: left;margin-right: 0.25em;color: #696969;}#sk-container-id-2 label.sk-toggleable__label-arrow:hover:before {color: black;}#sk-container-id-2 div.sk-estimator:hover label.sk-toggleable__label-arrow:before {color: black;}#sk-container-id-2 div.sk-toggleable__content {max-height: 0;max-width: 0;overflow: hidden;text-align: left;background-color: #f0f8ff;}#sk-container-id-2 div.sk-toggleable__content pre {margin: 0.2em;color: black;border-radius: 0.25em;background-color: #f0f8ff;}#sk-container-id-2 input.sk-toggleable__control:checked~div.sk-toggleable__content {max-height: 200px;max-width: 100%;overflow: auto;}#sk-container-id-2 input.sk-toggleable__control:checked~label.sk-toggleable__label-arrow:before {content: \"▾\";}#sk-container-id-2 div.sk-estimator input.sk-toggleable__control:checked~label.sk-toggleable__label {background-color: #d4ebff;}#sk-container-id-2 div.sk-label input.sk-toggleable__control:checked~label.sk-toggleable__label {background-color: #d4ebff;}#sk-container-id-2 input.sk-hidden--visually {border: 0;clip: rect(1px 1px 1px 1px);clip: rect(1px, 1px, 1px, 1px);height: 1px;margin: -1px;overflow: hidden;padding: 0;position: absolute;width: 1px;}#sk-container-id-2 div.sk-estimator {font-family: monospace;background-color: #f0f8ff;border: 1px dotted black;border-radius: 0.25em;box-sizing: border-box;margin-bottom: 0.5em;}#sk-container-id-2 div.sk-estimator:hover {background-color: #d4ebff;}#sk-container-id-2 div.sk-parallel-item::after {content: \"\";width: 100%;border-bottom: 1px solid gray;flex-grow: 1;}#sk-container-id-2 div.sk-label:hover label.sk-toggleable__label {background-color: #d4ebff;}#sk-container-id-2 div.sk-serial::before {content: \"\";position: absolute;border-left: 1px solid gray;box-sizing: border-box;top: 0;bottom: 0;left: 50%;z-index: 0;}#sk-container-id-2 div.sk-serial {display: flex;flex-direction: column;align-items: center;background-color: white;padding-right: 0.2em;padding-left: 0.2em;position: relative;}#sk-container-id-2 div.sk-item {position: relative;z-index: 1;}#sk-container-id-2 div.sk-parallel {display: flex;align-items: stretch;justify-content: center;background-color: white;position: relative;}#sk-container-id-2 div.sk-item::before, #sk-container-id-2 div.sk-parallel-item::before {content: \"\";position: absolute;border-left: 1px solid gray;box-sizing: border-box;top: 0;bottom: 0;left: 50%;z-index: -1;}#sk-container-id-2 div.sk-parallel-item {display: flex;flex-direction: column;z-index: 1;position: relative;background-color: white;}#sk-container-id-2 div.sk-parallel-item:first-child::after {align-self: flex-end;width: 50%;}#sk-container-id-2 div.sk-parallel-item:last-child::after {align-self: flex-start;width: 50%;}#sk-container-id-2 div.sk-parallel-item:only-child::after {width: 0;}#sk-container-id-2 div.sk-dashed-wrapped {border: 1px dashed gray;margin: 0 0.4em 0.5em 0.4em;box-sizing: border-box;padding-bottom: 0.4em;background-color: white;}#sk-container-id-2 div.sk-label label {font-family: monospace;font-weight: bold;display: inline-block;line-height: 1.2em;}#sk-container-id-2 div.sk-label-container {text-align: center;}#sk-container-id-2 div.sk-container {/* jupyter's `normalize.less` sets `[hidden] { display: none; }` but bootstrap.min.css set `[hidden] { display: none !important; }` so we also need the `!important` here to be able to override the default hidden behavior on the sphinx rendered scikit-learn.org. See: https://github.com/scikit-learn/scikit-learn/issues/21755 */display: inline-block !important;position: relative;}#sk-container-id-2 div.sk-text-repr-fallback {display: none;}</style><div id=\"sk-container-id-2\" class=\"sk-top-container\"><div class=\"sk-text-repr-fallback\"><pre>KNeighborsClassifier()</pre><b>In a Jupyter environment, please rerun this cell to show the HTML representation or trust the notebook. <br />On GitHub, the HTML representation is unable to render, please try loading this page with nbviewer.org.</b></div><div class=\"sk-container\" hidden><div class=\"sk-item\"><div class=\"sk-estimator sk-toggleable\"><input class=\"sk-toggleable__control sk-hidden--visually\" id=\"sk-estimator-id-2\" type=\"checkbox\" checked><label for=\"sk-estimator-id-2\" class=\"sk-toggleable__label sk-toggleable__label-arrow\">KNeighborsClassifier</label><div class=\"sk-toggleable__content\"><pre>KNeighborsClassifier()</pre></div></div></div></div></div>"
            ]
          },
          "metadata": {},
          "execution_count": 55
        }
      ]
    },
    {
      "cell_type": "code",
      "source": [
        "y_pred = knn.predict(X_test)"
      ],
      "metadata": {
        "id": "YEZMsRTZeDRN"
      },
      "execution_count": null,
      "outputs": []
    },
    {
      "cell_type": "code",
      "source": [
        "y_pred"
      ],
      "metadata": {
        "colab": {
          "base_uri": "https://localhost:8080/"
        },
        "id": "jt4qHv6_eLX2",
        "outputId": "29e933f1-7620-4068-b377-6aca31be8f25"
      },
      "execution_count": null,
      "outputs": [
        {
          "output_type": "execute_result",
          "data": {
            "text/plain": [
              "array([1, 1, 0, 1, 1, 1, 0, 0, 0, 1, 1, 1, 0, 1, 1, 0, 1, 0, 1, 1, 1, 1,\n",
              "       1, 1, 0, 1, 0, 0, 1, 1, 0, 0, 0, 1, 1, 1, 1, 0, 1, 0, 1, 0, 1, 1,\n",
              "       1, 0, 0, 1, 0, 1, 1, 0, 1, 0, 1, 0, 1, 1, 0, 0, 1, 0, 1, 1, 0, 0,\n",
              "       0, 1, 1, 1, 1, 1, 0, 0, 1, 1, 0, 1, 0, 1, 1, 0, 1, 1, 1, 0, 1, 1,\n",
              "       1, 1, 0, 0, 1, 0, 0, 0, 1, 1, 0, 0, 1, 1, 1, 1, 0, 1, 1, 0, 0, 1,\n",
              "       1, 1, 1, 1, 1, 0, 1, 1, 1, 0, 1, 1, 1, 0, 1, 1, 1, 0, 0, 0, 0, 1,\n",
              "       0])"
            ]
          },
          "metadata": {},
          "execution_count": 57
        }
      ]
    },
    {
      "cell_type": "code",
      "source": [
        "X_pred = knn.predict(X_test)"
      ],
      "metadata": {
        "id": "dCZIJXjUeUwV"
      },
      "execution_count": null,
      "outputs": []
    },
    {
      "cell_type": "code",
      "source": [
        "from sklearn.metrics import accuracy_score,confusion_matrix"
      ],
      "metadata": {
        "id": "an7CJwMzeNdv"
      },
      "execution_count": null,
      "outputs": []
    },
    {
      "cell_type": "code",
      "source": [
        "accuracy = accuracy_score(y_test, y_pred)\n",
        "accuracy"
      ],
      "metadata": {
        "colab": {
          "base_uri": "https://localhost:8080/"
        },
        "id": "N723b2aieS2g",
        "outputId": "c7caae52-d2da-4925-82f0-dbefe3246d24"
      },
      "execution_count": null,
      "outputs": [
        {
          "output_type": "execute_result",
          "data": {
            "text/plain": [
              "0.7969924812030075"
            ]
          },
          "metadata": {},
          "execution_count": 60
        }
      ]
    },
    {
      "cell_type": "code",
      "source": [
        "cm=confusion_matrix(y_test,y_pred)\n",
        "ax=plt.subplot()\n",
        "sns.heatmap(cm,annot=True,ax=ax)\n",
        "ax.set_xlabel('Predicted')\n",
        "ax.set_ylabel('Acutal')\n",
        "ax.set_title('Confustion Matrix')\n",
        "ax.xaxis.set_ticklabels(['No','Yes'])\n",
        "ax.yaxis.set_ticklabels(['No','Yes'])"
      ],
      "metadata": {
        "colab": {
          "base_uri": "https://localhost:8080/",
          "height": 489
        },
        "id": "3HKTlRvvef8e",
        "outputId": "6ea2f1a8-94aa-4a0a-bade-e4a449161210"
      },
      "execution_count": null,
      "outputs": [
        {
          "output_type": "execute_result",
          "data": {
            "text/plain": [
              "[Text(0, 0.5, 'No'), Text(0, 1.5, 'Yes')]"
            ]
          },
          "metadata": {},
          "execution_count": 61
        },
        {
          "output_type": "display_data",
          "data": {
            "text/plain": [
              "<Figure size 640x480 with 2 Axes>"
            ],
            "image/png": "[encoded data removed]"
          },
          "metadata": {}
        }
      ]
    },
    {
      "cell_type": "code",
      "source": [
        "from sklearn.tree import DecisionTreeClassifier"
      ],
      "metadata": {
        "id": "vf4KYO9zFvEh"
      },
      "execution_count": null,
      "outputs": []
    },
    {
      "cell_type": "code",
      "source": [
        "dtc = DecisionTreeClassifier(max_depth=3,random_state=42)"
      ],
      "metadata": {
        "id": "r0JPJ-qTF7I5"
      },
      "execution_count": null,
      "outputs": []
    },
    {
      "cell_type": "code",
      "source": [
        "dtc.fit(X_train,y_train)"
      ],
      "metadata": {
        "colab": {
          "base_uri": "https://localhost:8080/",
          "height": 75
        },
        "id": "sp4Q-K6NGTbf",
        "outputId": "2d10e367-8075-4a94-fee2-27a5d706c700"
      },
      "execution_count": null,
      "outputs": [
        {
          "output_type": "execute_result",
          "data": {
            "text/plain": [
              "DecisionTreeClassifier(max_depth=3, random_state=42)"
            ],
            "text/html": [
              "<style>#sk-container-id-3 {color: black;background-color: white;}#sk-container-id-3 pre{padding: 0;}#sk-container-id-3 div.sk-toggleable {background-color: white;}#sk-container-id-3 label.sk-toggleable__label {cursor: pointer;display: block;width: 100%;margin-bottom: 0;padding: 0.3em;box-sizing: border-box;text-align: center;}#sk-container-id-3 label.sk-toggleable__label-arrow:before {content: \"▸\";float: left;margin-right: 0.25em;color: #696969;}#sk-container-id-3 label.sk-toggleable__label-arrow:hover:before {color: black;}#sk-container-id-3 div.sk-estimator:hover label.sk-toggleable__label-arrow:before {color: black;}#sk-container-id-3 div.sk-toggleable__content {max-height: 0;max-width: 0;overflow: hidden;text-align: left;background-color: #f0f8ff;}#sk-container-id-3 div.sk-toggleable__content pre {margin: 0.2em;color: black;border-radius: 0.25em;background-color: #f0f8ff;}#sk-container-id-3 input.sk-toggleable__control:checked~div.sk-toggleable__content {max-height: 200px;max-width: 100%;overflow: auto;}#sk-container-id-3 input.sk-toggleable__control:checked~label.sk-toggleable__label-arrow:before {content: \"▾\";}#sk-container-id-3 div.sk-estimator input.sk-toggleable__control:checked~label.sk-toggleable__label {background-color: #d4ebff;}#sk-container-id-3 div.sk-label input.sk-toggleable__control:checked~label.sk-toggleable__label {background-color: #d4ebff;}#sk-container-id-3 input.sk-hidden--visually {border: 0;clip: rect(1px 1px 1px 1px);clip: rect(1px, 1px, 1px, 1px);height: 1px;margin: -1px;overflow: hidden;padding: 0;position: absolute;width: 1px;}#sk-container-id-3 div.sk-estimator {font-family: monospace;background-color: #f0f8ff;border: 1px dotted black;border-radius: 0.25em;box-sizing: border-box;margin-bottom: 0.5em;}#sk-container-id-3 div.sk-estimator:hover {background-color: #d4ebff;}#sk-container-id-3 div.sk-parallel-item::after {content: \"\";width: 100%;border-bottom: 1px solid gray;flex-grow: 1;}#sk-container-id-3 div.sk-label:hover label.sk-toggleable__label {background-color: #d4ebff;}#sk-container-id-3 div.sk-serial::before {content: \"\";position: absolute;border-left: 1px solid gray;box-sizing: border-box;top: 0;bottom: 0;left: 50%;z-index: 0;}#sk-container-id-3 div.sk-serial {display: flex;flex-direction: column;align-items: center;background-color: white;padding-right: 0.2em;padding-left: 0.2em;position: relative;}#sk-container-id-3 div.sk-item {position: relative;z-index: 1;}#sk-container-id-3 div.sk-parallel {display: flex;align-items: stretch;justify-content: center;background-color: white;position: relative;}#sk-container-id-3 div.sk-item::before, #sk-container-id-3 div.sk-parallel-item::before {content: \"\";position: absolute;border-left: 1px solid gray;box-sizing: border-box;top: 0;bottom: 0;left: 50%;z-index: -1;}#sk-container-id-3 div.sk-parallel-item {display: flex;flex-direction: column;z-index: 1;position: relative;background-color: white;}#sk-container-id-3 div.sk-parallel-item:first-child::after {align-self: flex-end;width: 50%;}#sk-container-id-3 div.sk-parallel-item:last-child::after {align-self: flex-start;width: 50%;}#sk-container-id-3 div.sk-parallel-item:only-child::after {width: 0;}#sk-container-id-3 div.sk-dashed-wrapped {border: 1px dashed gray;margin: 0 0.4em 0.5em 0.4em;box-sizing: border-box;padding-bottom: 0.4em;background-color: white;}#sk-container-id-3 div.sk-label label {font-family: monospace;font-weight: bold;display: inline-block;line-height: 1.2em;}#sk-container-id-3 div.sk-label-container {text-align: center;}#sk-container-id-3 div.sk-container {/* jupyter's `normalize.less` sets `[hidden] { display: none; }` but bootstrap.min.css set `[hidden] { display: none !important; }` so we also need the `!important` here to be able to override the default hidden behavior on the sphinx rendered scikit-learn.org. See: https://github.com/scikit-learn/scikit-learn/issues/21755 */display: inline-block !important;position: relative;}#sk-container-id-3 div.sk-text-repr-fallback {display: none;}</style><div id=\"sk-container-id-3\" class=\"sk-top-container\"><div class=\"sk-text-repr-fallback\"><pre>DecisionTreeClassifier(max_depth=3, random_state=42)</pre><b>In a Jupyter environment, please rerun this cell to show the HTML representation or trust the notebook. <br />On GitHub, the HTML representation is unable to render, please try loading this page with nbviewer.org.</b></div><div class=\"sk-container\" hidden><div class=\"sk-item\"><div class=\"sk-estimator sk-toggleable\"><input class=\"sk-toggleable__control sk-hidden--visually\" id=\"sk-estimator-id-3\" type=\"checkbox\" checked><label for=\"sk-estimator-id-3\" class=\"sk-toggleable__label sk-toggleable__label-arrow\">DecisionTreeClassifier</label><div class=\"sk-toggleable__content\"><pre>DecisionTreeClassifier(max_depth=3, random_state=42)</pre></div></div></div></div></div>"
            ]
          },
          "metadata": {},
          "execution_count": 64
        }
      ]
    },
    {
      "cell_type": "code",
      "source": [
        "y_pred_c = dtc.predict(X_test)"
      ],
      "metadata": {
        "id": "wqSflb4sGp00"
      },
      "execution_count": null,
      "outputs": []
    },
    {
      "cell_type": "code",
      "source": [
        "acc = accuracy_score(y_test,y_pred)"
      ],
      "metadata": {
        "id": "JQVwNvjxGvVA"
      },
      "execution_count": null,
      "outputs": []
    },
    {
      "cell_type": "code",
      "source": [
        "print(acc)"
      ],
      "metadata": {
        "colab": {
          "base_uri": "https://localhost:8080/"
        },
        "id": "5wiTDPyOG2-g",
        "outputId": "076d18e5-0b62-4587-d1f3-8f7df90ffcad"
      },
      "execution_count": null,
      "outputs": [
        {
          "output_type": "stream",
          "name": "stdout",
          "text": [
            "0.7969924812030075\n"
          ]
        }
      ]
    },
    {
      "cell_type": "code",
      "source": [
        "from sklearn.tree import plot_tree\n",
        "plt.figure(figsize = (12,5))\n",
        "plot_tree(dtc,filled=True)\n",
        "plt.show()"
      ],
      "metadata": {
        "colab": {
          "base_uri": "https://localhost:8080/",
          "height": 422
        },
        "id": "Hc7bp_KJG5Ce",
        "outputId": "923359f8-d717-4d12-aee9-59544db000f0"
      },
      "execution_count": null,
      "outputs": [
        {
          "output_type": "display_data",
          "data": {
            "text/plain": [
              "<Figure size 1200x500 with 1 Axes>"
            ],
            "image/png": "[encoded data removed]"
          },
          "metadata": {}
        }
      ]
    },
    {
      "cell_type": "code",
      "source": [
        "from sklearn.ensemble import RandomForestClassifier"
      ],
      "metadata": {
        "id": "GiRWtxNxIFBC"
      },
      "execution_count": null,
      "outputs": []
    },
    {
      "cell_type": "code",
      "source": [
        "rf = RandomForestClassifier(max_depth=4,random_state=42)\n",
        "rf.fit(X_train,y_train)"
      ],
      "metadata": {
        "colab": {
          "base_uri": "https://localhost:8080/",
          "height": 75
        },
        "id": "ghb2_7-HMGF7",
        "outputId": "6901a4e0-b51b-4d3f-f617-ba4c58e30862"
      },
      "execution_count": null,
      "outputs": [
        {
          "output_type": "execute_result",
          "data": {
            "text/plain": [
              "RandomForestClassifier(max_depth=4, random_state=42)"
            ],
            "text/html": [
              "<style>#sk-container-id-4 {color: black;background-color: white;}#sk-container-id-4 pre{padding: 0;}#sk-container-id-4 div.sk-toggleable {background-color: white;}#sk-container-id-4 label.sk-toggleable__label {cursor: pointer;display: block;width: 100%;margin-bottom: 0;padding: 0.3em;box-sizing: border-box;text-align: center;}#sk-container-id-4 label.sk-toggleable__label-arrow:before {content: \"▸\";float: left;margin-right: 0.25em;color: #696969;}#sk-container-id-4 label.sk-toggleable__label-arrow:hover:before {color: black;}#sk-container-id-4 div.sk-estimator:hover label.sk-toggleable__label-arrow:before {color: black;}#sk-container-id-4 div.sk-toggleable__content {max-height: 0;max-width: 0;overflow: hidden;text-align: left;background-color: #f0f8ff;}#sk-container-id-4 div.sk-toggleable__content pre {margin: 0.2em;color: black;border-radius: 0.25em;background-color: #f0f8ff;}#sk-container-id-4 input.sk-toggleable__control:checked~div.sk-toggleable__content {max-height: 200px;max-width: 100%;overflow: auto;}#sk-container-id-4 input.sk-toggleable__control:checked~label.sk-toggleable__label-arrow:before {content: \"▾\";}#sk-container-id-4 div.sk-estimator input.sk-toggleable__control:checked~label.sk-toggleable__label {background-color: #d4ebff;}#sk-container-id-4 div.sk-label input.sk-toggleable__control:checked~label.sk-toggleable__label {background-color: #d4ebff;}#sk-container-id-4 input.sk-hidden--visually {border: 0;clip: rect(1px 1px 1px 1px);clip: rect(1px, 1px, 1px, 1px);height: 1px;margin: -1px;overflow: hidden;padding: 0;position: absolute;width: 1px;}#sk-container-id-4 div.sk-estimator {font-family: monospace;background-color: #f0f8ff;border: 1px dotted black;border-radius: 0.25em;box-sizing: border-box;margin-bottom: 0.5em;}#sk-container-id-4 div.sk-estimator:hover {background-color: #d4ebff;}#sk-container-id-4 div.sk-parallel-item::after {content: \"\";width: 100%;border-bottom: 1px solid gray;flex-grow: 1;}#sk-container-id-4 div.sk-label:hover label.sk-toggleable__label {background-color: #d4ebff;}#sk-container-id-4 div.sk-serial::before {content: \"\";position: absolute;border-left: 1px solid gray;box-sizing: border-box;top: 0;bottom: 0;left: 50%;z-index: 0;}#sk-container-id-4 div.sk-serial {display: flex;flex-direction: column;align-items: center;background-color: white;padding-right: 0.2em;padding-left: 0.2em;position: relative;}#sk-container-id-4 div.sk-item {position: relative;z-index: 1;}#sk-container-id-4 div.sk-parallel {display: flex;align-items: stretch;justify-content: center;background-color: white;position: relative;}#sk-container-id-4 div.sk-item::before, #sk-container-id-4 div.sk-parallel-item::before {content: \"\";position: absolute;border-left: 1px solid gray;box-sizing: border-box;top: 0;bottom: 0;left: 50%;z-index: -1;}#sk-container-id-4 div.sk-parallel-item {display: flex;flex-direction: column;z-index: 1;position: relative;background-color: white;}#sk-container-id-4 div.sk-parallel-item:first-child::after {align-self: flex-end;width: 50%;}#sk-container-id-4 div.sk-parallel-item:last-child::after {align-self: flex-start;width: 50%;}#sk-container-id-4 div.sk-parallel-item:only-child::after {width: 0;}#sk-container-id-4 div.sk-dashed-wrapped {border: 1px dashed gray;margin: 0 0.4em 0.5em 0.4em;box-sizing: border-box;padding-bottom: 0.4em;background-color: white;}#sk-container-id-4 div.sk-label label {font-family: monospace;font-weight: bold;display: inline-block;line-height: 1.2em;}#sk-container-id-4 div.sk-label-container {text-align: center;}#sk-container-id-4 div.sk-container {/* jupyter's `normalize.less` sets `[hidden] { display: none; }` but bootstrap.min.css set `[hidden] { display: none !important; }` so we also need the `!important` here to be able to override the default hidden behavior on the sphinx rendered scikit-learn.org. See: https://github.com/scikit-learn/scikit-learn/issues/21755 */display: inline-block !important;position: relative;}#sk-container-id-4 div.sk-text-repr-fallback {display: none;}</style><div id=\"sk-container-id-4\" class=\"sk-top-container\"><div class=\"sk-text-repr-fallback\"><pre>RandomForestClassifier(max_depth=4, random_state=42)</pre><b>In a Jupyter environment, please rerun this cell to show the HTML representation or trust the notebook. <br />On GitHub, the HTML representation is unable to render, please try loading this page with nbviewer.org.</b></div><div class=\"sk-container\" hidden><div class=\"sk-item\"><div class=\"sk-estimator sk-toggleable\"><input class=\"sk-toggleable__control sk-hidden--visually\" id=\"sk-estimator-id-4\" type=\"checkbox\" checked><label for=\"sk-estimator-id-4\" class=\"sk-toggleable__label sk-toggleable__label-arrow\">RandomForestClassifier</label><div class=\"sk-toggleable__content\"><pre>RandomForestClassifier(max_depth=4, random_state=42)</pre></div></div></div></div></div>"
            ]
          },
          "metadata": {},
          "execution_count": 70
        }
      ]
    },
    {
      "cell_type": "code",
      "source": [
        "y_pred_rf = rf.predict(X_test)"
      ],
      "metadata": {
        "id": "apdYTYHKMx38"
      },
      "execution_count": null,
      "outputs": []
    },
    {
      "cell_type": "code",
      "source": [
        "y_pred_rf"
      ],
      "metadata": {
        "colab": {
          "base_uri": "https://localhost:8080/"
        },
        "id": "xGIR-pJ9M4WI",
        "outputId": "fab54bb3-63c3-4152-c83a-1594c86fb1e4"
      },
      "execution_count": null,
      "outputs": [
        {
          "output_type": "execute_result",
          "data": {
            "text/plain": [
              "array([1, 0, 1, 1, 1, 1, 0, 1, 0, 0, 1, 1, 0, 1, 1, 0, 1, 0, 1, 1, 1, 1,\n",
              "       1, 1, 0, 1, 0, 0, 1, 1, 1, 0, 0, 1, 1, 1, 1, 0, 1, 0, 1, 0, 1, 1,\n",
              "       1, 0, 0, 1, 0, 1, 1, 0, 1, 0, 1, 0, 1, 1, 0, 0, 1, 0, 1, 1, 1, 1,\n",
              "       0, 1, 1, 1, 1, 1, 0, 0, 1, 1, 0, 1, 1, 1, 1, 1, 1, 1, 1, 0, 1, 1,\n",
              "       1, 0, 0, 0, 1, 0, 1, 0, 1, 1, 0, 0, 1, 1, 1, 1, 0, 1, 1, 0, 0, 1,\n",
              "       1, 1, 1, 1, 0, 1, 1, 1, 1, 0, 1, 0, 1, 0, 1, 1, 1, 0, 0, 0, 0, 1,\n",
              "       0])"
            ]
          },
          "metadata": {},
          "execution_count": 72
        }
      ]
    },
    {
      "cell_type": "code",
      "source": [
        "print(accuracy_score(y_test,y_pred_rf))"
      ],
      "metadata": {
        "colab": {
          "base_uri": "https://localhost:8080/"
        },
        "id": "rtqEcsGBNAQD",
        "outputId": "b494d9fb-4a9d-4450-9a4b-c3697bffe678"
      },
      "execution_count": null,
      "outputs": [
        {
          "output_type": "stream",
          "name": "stdout",
          "text": [
            "0.8120300751879699\n"
          ]
        }
      ]
    },
    {
      "cell_type": "code",
      "source": [],
      "metadata": {
        "id": "_WLgS_E-NHHz"
      },
      "execution_count": null,
      "outputs": []
    }
  ]
}